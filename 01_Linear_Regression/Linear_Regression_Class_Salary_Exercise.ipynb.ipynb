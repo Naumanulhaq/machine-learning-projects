created folder for linear regression project
